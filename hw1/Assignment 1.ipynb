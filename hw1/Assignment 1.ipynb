{
 "cells": [
  {
   "cell_type": "code",
   "execution_count": 56,
   "metadata": {},
   "outputs": [],
   "source": [
    "import pandas as pd \n",
    "from pandas import DataFrame, read_csv\n",
    "import os\n",
    "import csv \n",
    "import numpy as np \n",
    "import re\n",
    "import matplotlib.pyplot as plt\n",
    "from nltk.corpus import stopwords"
   ]
  },
  {
   "cell_type": "code",
   "execution_count": 3,
   "metadata": {},
   "outputs": [],
   "source": [
    "data_train = []\n",
    "target_train = []\n",
    "\n",
    "for filename in os.listdir('/Users/zhl/Documents/1011/aclImdb/train/pos'):\n",
    "    data = open('/Users/zhl/Documents/1011/aclImdb/train/pos/' + filename, 'r' , encoding=\"ISO-8859-1\").read()\n",
    "    #data = remove_stopwords(data, stopwords)\n",
    "    data_train.append(data)\n",
    "    target_train.append(\"1\")\n",
    "    \n",
    "for filename in os.listdir('/Users/zhl/Documents/1011/aclImdb/train/neg'):\n",
    "    data = open('/Users/zhl/Documents/1011/aclImdb/train/neg/' + filename, 'r' , encoding=\"ISO-8859-1\").read()\n",
    "    #data = remove_stopwords(data, stopwords)\n",
    "    data_train.append(data)\n",
    "    target_train.append(\"0\")\n"
   ]
  },
  {
   "cell_type": "code",
   "execution_count": 4,
   "metadata": {},
   "outputs": [],
   "source": [
    "import random\n",
    "\n",
    "# c = list(zip(data_train, target_train))\n",
    "\n",
    "# random.shuffle(c)\n",
    "\n",
    "# a, b = zip(*c)\n",
    "\n",
    "# data_train = list(a)\n",
    "# target_train = list(b)\n",
    "\n",
    "train_split = 10000\n",
    "train_data = data_train[:train_split] + data_train[-train_split:]\n",
    "train_targets = target_train[:train_split] + target_train[-train_split:]\n",
    "\n",
    "val_data = data_train[train_split:-train_split]\n",
    "val_targets = target_train[train_split:-train_split]\n",
    "\n",
    "train_targets = np.array(train_targets).astype(int)\n",
    "val_targets = np.array(val_targets).astype(int)"
   ]
  },
  {
   "cell_type": "code",
   "execution_count": 5,
   "metadata": {},
   "outputs": [],
   "source": [
    "test_data = []\n",
    "test_targets = []\n",
    "\n",
    "for filename in os.listdir('/Users/zhl/Documents/1011/aclImdb/test/pos'):\n",
    "    data = open('/Users/zhl/Documents/1011/aclImdb/test/pos/' + filename, 'r' , encoding=\"ISO-8859-1\").read()\n",
    "    #data = remove_stopwords(data, stopwords)\n",
    "    test_data.append(data)\n",
    "    test_targets.append(\"1\")\n",
    "    \n",
    "for filename in os.listdir('/Users/zhl/Documents/1011/aclImdb/test/neg'):\n",
    "    data = open('/Users/zhl/Documents/1011/aclImdb/test/neg/' + filename, 'r' , encoding=\"ISO-8859-1\").read()\n",
    "    #data = remove_stopwords(data, stopwords)\n",
    "    test_data.append(data)\n",
    "    test_targets.append(\"0\")\n",
    "\n",
    "test_targets = np.array(test_targets).astype(int)"
   ]
  },
  {
   "cell_type": "code",
   "execution_count": 6,
   "metadata": {},
   "outputs": [
    {
     "name": "stdout",
     "output_type": "stream",
     "text": [
      "Train dataset size is 20000\n",
      "Val dataset size is 5000\n",
      "Test dataset size is 25000\n"
     ]
    }
   ],
   "source": [
    "print (\"Train dataset size is {}\".format(len(train_data)))\n",
    "print (\"Val dataset size is {}\".format(len(val_data)))\n",
    "print (\"Test dataset size is {}\".format(len(test_data)))"
   ]
  },
  {
   "cell_type": "code",
   "execution_count": 7,
   "metadata": {},
   "outputs": [],
   "source": [
    "#Clean the text\n",
    "def clean_text(text_list):\n",
    "    text_clean = [text.replace('[^\\w\\s]','') for text in text_list]\n",
    "    text_clean = [text.replace('<br />', ' ') for text in text_clean]\n",
    "    text_clean = [re.sub(r\"([\\.\\\",\\(\\)!\\?;:-])\", \"\", text) for text in text_clean]\n",
    "    return text_clean"
   ]
  },
  {
   "cell_type": "code",
   "execution_count": 8,
   "metadata": {},
   "outputs": [],
   "source": [
    "train_data = clean_text(train_data)\n",
    "val_data = clean_text(val_data)\n",
    "test_data = clean_text(test_data)"
   ]
  },
  {
   "cell_type": "code",
   "execution_count": 9,
   "metadata": {},
   "outputs": [],
   "source": [
    "#Remove stop word\n",
    "stop = stopwords.words('english')"
   ]
  },
  {
   "cell_type": "code",
   "execution_count": 10,
   "metadata": {},
   "outputs": [],
   "source": [
    "import spacy\n",
    "import string\n",
    "\n",
    "tokenizer = spacy.load('en_core_web_sm')\n",
    "punctuations = string.punctuation\n",
    "\n",
    "def tokenize(sent):\n",
    "  tokens = tokenizer(sent)\n",
    "  return [token.text.lower() for token in tokens if (token.text not in punctuations)]"
   ]
  },
  {
   "cell_type": "code",
   "execution_count": 11,
   "metadata": {},
   "outputs": [
    {
     "name": "stdout",
     "output_type": "stream",
     "text": [
      "Tokenizing val data\n",
      "Tokenizing test data\n",
      "Tokenizing train data\n"
     ]
    }
   ],
   "source": [
    "import pickle as pkl\n",
    "\n",
    "def tokenize_dataset(dataset):\n",
    "    token_dataset = []\n",
    "    all_tokens = []\n",
    "    \n",
    "    for sample in dataset:\n",
    "        tokens = tokenize(sample)\n",
    "        token_dataset.append(tokens)\n",
    "        all_tokens += tokens\n",
    "\n",
    "    return token_dataset, all_tokens\n",
    "\n",
    "# val set tokens\n",
    "print (\"Tokenizing val data\")\n",
    "val_data_tokens, _ = tokenize_dataset(val_data)\n",
    "pkl.dump(val_data_tokens, open(\"val_data_tokens.p\", \"wb\"))\n",
    "\n",
    "# test set tokens\n",
    "print (\"Tokenizing test data\")\n",
    "test_data_tokens, _ = tokenize_dataset(test_data)\n",
    "pkl.dump(test_data_tokens, open(\"test_data_tokens.p\", \"wb\"))\n",
    "\n",
    "# train set tokens\n",
    "print (\"Tokenizing train data\")\n",
    "train_data_tokens, all_train_tokens = tokenize_dataset(train_data)\n",
    "pkl.dump(train_data_tokens, open(\"train_data_tokens.p\", \"wb\"))\n",
    "pkl.dump(all_train_tokens, open(\"all_train_tokens.p\", \"wb\"))"
   ]
  },
  {
   "cell_type": "code",
   "execution_count": 15,
   "metadata": {},
   "outputs": [],
   "source": [
    "from collections import Counter\n",
    "\n",
    "#max_vocab_size = 10000\n",
    "# save index 0 for unk and 1 for pad\n",
    "PAD_IDX = 0\n",
    "UNK_IDX = 1\n",
    "\n",
    "def build_vocab(all_tokens, max_vocab_size = 10000):\n",
    "    # Returns:\n",
    "    # id2token: list of tokens, where id2token[i] returns token that corresponds to token i\n",
    "    # token2id: dictionary where keys represent tokens and corresponding values represent indices\n",
    "    token_counter = Counter(all_tokens)\n",
    "    vocab, count = zip(*token_counter.most_common(max_vocab_size))\n",
    "    id2token = list(vocab)\n",
    "    token2id = dict(zip(vocab, range(2,2+len(vocab)))) \n",
    "    id2token = ['<pad>', '<unk>'] + id2token\n",
    "    token2id['<pad>'] = PAD_IDX \n",
    "    token2id['<unk>'] = UNK_IDX\n",
    "    return token2id, id2token\n",
    "\n",
    "token2id, id2token = build_vocab(all_train_tokens, 10000)"
   ]
  },
  {
   "cell_type": "code",
   "execution_count": 16,
   "metadata": {},
   "outputs": [
    {
     "name": "stdout",
     "output_type": "stream",
     "text": [
      "Token id 3194 ; token redemption\n",
      "Token redemption; token id 3194\n"
     ]
    }
   ],
   "source": [
    "# Lets check the dictionary by loading random token from it\n",
    "import random\n",
    "random_token_id = random.randint(0, len(id2token)-1)\n",
    "random_token = id2token[random_token_id]\n",
    "\n",
    "print (\"Token id {} ; token {}\".format(random_token_id, id2token[random_token_id]))\n",
    "print (\"Token {}; token id {}\".format(random_token, token2id[random_token]))"
   ]
  },
  {
   "cell_type": "code",
   "execution_count": 17,
   "metadata": {},
   "outputs": [
    {
     "name": "stdout",
     "output_type": "stream",
     "text": [
      "Train dataset size is 20000\n",
      "Val dataset size is 5000\n",
      "Test dataset size is 25000\n"
     ]
    }
   ],
   "source": [
    "def token2index_dataset(tokens_data):\n",
    "    indices_data = []\n",
    "    for tokens in tokens_data:\n",
    "        index_list = [token2id[token] if token in token2id else UNK_IDX for token in tokens]\n",
    "        indices_data.append(index_list)\n",
    "    return indices_data\n",
    "\n",
    "train_data_indices = token2index_dataset(train_data_tokens)\n",
    "val_data_indices = token2index_dataset(val_data_tokens)\n",
    "test_data_indices = token2index_dataset(test_data_tokens)\n",
    "\n",
    "# double checking\n",
    "print (\"Train dataset size is {}\".format(len(train_data_indices)))\n",
    "print (\"Val dataset size is {}\".format(len(val_data_indices)))\n",
    "print (\"Test dataset size is {}\".format(len(test_data_indices)))"
   ]
  },
  {
   "cell_type": "markdown",
   "metadata": {},
   "source": [
    "Pytorch dataloader"
   ]
  },
  {
   "cell_type": "code",
   "execution_count": 42,
   "metadata": {},
   "outputs": [
    {
     "name": "stdout",
     "output_type": "stream",
     "text": [
      "tensor([[   1, 4835,    2,  ...,    0,    0,    0],\n",
      "        [ 677, 3756,   13,  ...,    0,    0,    0],\n",
      "        [ 458,  109,    1,  ...,    0,    0,    0],\n",
      "        ...,\n",
      "        [  10, 2362,    6,  ...,    0,    0,    0],\n",
      "        [  11, 8374, 2981,  ...,    0,    0,    0],\n",
      "        [  11,  160,    7,  ...,    0,    0,    0]])\n",
      "tensor([1, 1, 1, 0, 1, 1, 1, 0, 1, 1, 1, 0, 1, 1, 1, 1, 0, 1, 0, 0, 1, 1, 1, 1,\n",
      "        1, 0, 0, 0, 0, 1, 1, 0, 0, 0, 0, 1, 1, 1, 1, 0, 1, 0, 1, 1, 0, 0, 1, 0,\n",
      "        1, 1, 1, 1, 1, 1, 1, 0, 0, 0, 1, 0, 1, 1, 0, 0, 1, 1, 0, 1, 0, 1, 0, 1,\n",
      "        1, 1, 1, 1, 0, 1, 0, 0, 1, 0, 0, 1, 1, 0, 1, 1, 1, 1, 1, 0, 1, 0, 1, 1,\n",
      "        0, 1, 0, 1])\n"
     ]
    }
   ],
   "source": [
    "MAX_SENTENCE_LENGTH = 10000\n",
    "\n",
    "import numpy as np\n",
    "import torch\n",
    "from torch.utils.data import Dataset\n",
    "\n",
    "class IMDBDataset(Dataset):\n",
    "    \"\"\"\n",
    "    Class that represents a train/validation/test dataset that's readable for PyTorch\n",
    "    Note that this class inherits torch.utils.data.Dataset\n",
    "    \"\"\"\n",
    "    \n",
    "    def __init__(self, data_list, target_list):\n",
    "        \"\"\"\n",
    "        @param data_list: list of newsgroup tokens \n",
    "        @param target_list: list of newsgroup targets \n",
    "\n",
    "        \"\"\"\n",
    "        self.data_list = data_list\n",
    "        self.target_list = target_list\n",
    "        assert (len(self.data_list) == len(self.target_list))\n",
    "\n",
    "    def __len__(self):\n",
    "        return len(self.data_list)\n",
    "        \n",
    "    def __getitem__(self, key):\n",
    "        \"\"\"\n",
    "        Triggered when you call dataset[i]\n",
    "        \"\"\"\n",
    "        \n",
    "        token_idx = self.data_list[key][:MAX_SENTENCE_LENGTH]\n",
    "        label = self.target_list[key]\n",
    "        return [token_idx, len(token_idx), label]\n",
    "\n",
    "def IMDB_collate_func(batch):\n",
    "    \"\"\"\n",
    "    Customized function for DataLoader that dynamically pads the batch so that all \n",
    "    data have the same length\n",
    "    \"\"\"\n",
    "    data_list = []\n",
    "    label_list = []\n",
    "    length_list = []\n",
    "    #print(\"collate batch: \", batch[0][0])\n",
    "    #batch[0][0] = batch[0][0][:MAX_SENTENCE_LENGTH]\n",
    "    for datum in batch:\n",
    "        label_list.append(datum[2])\n",
    "        length_list.append(datum[1])\n",
    "    # padding\n",
    "    for datum in batch:\n",
    "        padded_vec = np.pad(np.array(datum[0]), \n",
    "                                pad_width=((0,MAX_SENTENCE_LENGTH-datum[1])), \n",
    "                                mode=\"constant\", constant_values=0)\n",
    "        data_list.append(padded_vec)\n",
    "    return [torch.from_numpy(np.array(data_list)), torch.LongTensor(length_list), torch.LongTensor(label_list)]\n",
    "\n",
    "# create pytorch dataloader\n",
    "#train_loader = IMDBDataset(train_data_indices, train_targets)\n",
    "#val_loader = IMDBDataset(val_data_indices, val_targets)\n",
    "#test_loader = IMDBDataset(test_data_indices, test_targets)\n",
    "\n",
    "BATCH_SIZE = 100\n",
    "train_dataset = IMDBDataset(train_data_indices, train_targets)\n",
    "train_loader = torch.utils.data.DataLoader(dataset=train_dataset, \n",
    "                                           batch_size=BATCH_SIZE,\n",
    "                                           collate_fn=IMDB_collate_func,\n",
    "                                           shuffle=True)\n",
    "\n",
    "val_dataset = IMDBDataset(val_data_indices, val_targets)\n",
    "val_loader = torch.utils.data.DataLoader(dataset=val_dataset, \n",
    "                                           batch_size=BATCH_SIZE,\n",
    "                                           collate_fn=IMDB_collate_func,\n",
    "                                           shuffle=False)\n",
    "\n",
    "test_dataset = IMDBDataset(test_data_indices, test_targets)\n",
    "test_loader = torch.utils.data.DataLoader(dataset=test_dataset, \n",
    "                                           batch_size=BATCH_SIZE,\n",
    "                                           collate_fn=IMDB_collate_func,\n",
    "                                           shuffle=False)\n",
    "\n",
    "\n",
    "\n",
    "for i, (data, lengths, labels) in enumerate(train_loader):\n",
    "    print (data)\n",
    "    print (labels)\n",
    "    break"
   ]
  },
  {
   "cell_type": "markdown",
   "metadata": {},
   "source": [
    "Bag-of-Words"
   ]
  },
  {
   "cell_type": "code",
   "execution_count": 43,
   "metadata": {},
   "outputs": [],
   "source": [
    "# First import torch related libraries\n",
    "import torch\n",
    "import torch.nn as nn\n",
    "import torch.nn.functional as F\n",
    "\n",
    "class BagOfWords(nn.Module):\n",
    "    \"\"\"\n",
    "    BagOfWords classification model\n",
    "    \"\"\"\n",
    "    def __init__(self, vocab_size, emb_dim):\n",
    "        \"\"\"\n",
    "        @param vocab_size: size of the vocabulary. \n",
    "        @param emb_dim: size of the word embedding\n",
    "        \"\"\"\n",
    "        super(BagOfWords, self).__init__()\n",
    "        # pay attention to padding_idx \n",
    "        self.embed = nn.Embedding(vocab_size, emb_dim, padding_idx=0)\n",
    "        self.linear = nn.Linear(emb_dim,20)\n",
    "    \n",
    "    def forward(self, data, length):\n",
    "        \"\"\"\n",
    "        \n",
    "        @param data: matrix of size (batch_size, max_sentence_length). Each row in data represents a \n",
    "            review that is represented using n-gram index. Note that they are padded to have same length.\n",
    "        @param length: an int tensor of size (batch_size), which represents the non-trivial (excludes padding)\n",
    "            length of each sentences in the data.\n",
    "        \"\"\"\n",
    "        out = self.embed(data)\n",
    "        out = torch.sum(out, dim=1)\n",
    "        out /= length.view(length.size()[0],1).expand_as(out).float()\n",
    "     \n",
    "        # return logits\n",
    "        out = self.linear(out.float())\n",
    "        return out\n",
    "\n",
    "emb_dim = 100\n",
    "model = BagOfWords(len(id2token), emb_dim)"
   ]
  },
  {
   "cell_type": "code",
   "execution_count": 44,
   "metadata": {},
   "outputs": [
    {
     "name": "stdout",
     "output_type": "stream",
     "text": [
      "Epoch: [1/3], Step: [51/200], Validation Acc: 76.74\n",
      "Epoch: [1/3], Step: [101/200], Validation Acc: 84.1\n",
      "Epoch: [1/3], Step: [151/200], Validation Acc: 88.1\n",
      "Epoch: [2/3], Step: [51/200], Validation Acc: 88.82\n",
      "Epoch: [2/3], Step: [101/200], Validation Acc: 89.72\n",
      "Epoch: [2/3], Step: [151/200], Validation Acc: 89.78\n",
      "Epoch: [3/3], Step: [51/200], Validation Acc: 88.72\n",
      "Epoch: [3/3], Step: [101/200], Validation Acc: 89.72\n",
      "Epoch: [3/3], Step: [151/200], Validation Acc: 89.7\n"
     ]
    }
   ],
   "source": [
    "learning_rate = 0.01\n",
    "num_epochs = 3 # number epoch to train\n",
    "\n",
    "# Criterion and Optimizer\n",
    "criterion = torch.nn.CrossEntropyLoss()  \n",
    "optimizer = torch.optim.Adam(model.parameters(), lr=learning_rate)\n",
    "#optimizer = torch.optim.SGD(model.parameters(), lr=learning_rate)\n",
    "\n",
    "#scheduler = torch.optim.lr_scheduler.CosineAnnealingLR(optimizer, T_max = len(train_loader))\n",
    "\n",
    "# Function for testing the model\n",
    "def test_model(loader, model):\n",
    "    \"\"\"\n",
    "    Help function that tests the model's performance on a dataset\n",
    "    @param: loader - data loader for the dataset to test against\n",
    "    \"\"\"\n",
    "    correct = 0\n",
    "    total = 0\n",
    "    model.eval()\n",
    "    for data, lengths, labels in loader:\n",
    "        data_batch, length_batch, label_batch = data, lengths, labels\n",
    "        outputs = F.softmax(model(data_batch, length_batch), dim=1)\n",
    "        predicted = outputs.max(1, keepdim=True)[1]\n",
    "        \n",
    "        total += labels.size(0)\n",
    "        correct += predicted.eq(labels.view_as(predicted)).sum().item()\n",
    "    return (100 * correct / total)\n",
    "\n",
    "val_acc_list =[]\n",
    "loss_list = []\n",
    "\n",
    "\n",
    "for epoch in range(num_epochs):\n",
    "    #scheduler.step()\n",
    "    for i, (data, lengths, labels) in enumerate(train_loader):\n",
    "        model.train()\n",
    "        data_batch, length_batch, label_batch = data, lengths, labels\n",
    "        optimizer.zero_grad()\n",
    "        outputs = model(data_batch, length_batch)\n",
    "        loss = criterion(outputs, label_batch)\n",
    "        loss_list.append(loss)\n",
    "        loss.backward()\n",
    "        optimizer.step()\n",
    "        \n",
    "        # validate every 100 iterations\n",
    "        if i > 0 and i % 50 == 0:\n",
    "            # validate\n",
    "            val_acc = test_model(val_loader, model)\n",
    "            val_acc_list.append(val_acc)\n",
    "            print('Epoch: [{}/{}], Step: [{}/{}], Validation Acc: {}'.format( \n",
    "                       epoch+1, num_epochs, i+1, len(train_loader), val_acc))\n",
    "    \n",
    "    \n",
    "    "
   ]
  },
  {
   "cell_type": "code",
   "execution_count": 45,
   "metadata": {},
   "outputs": [
    {
     "name": "stdout",
     "output_type": "stream",
     "text": [
      "After training for 3 epochs\n",
      "Val Acc 89.94\n",
      "Test Acc 87.8\n"
     ]
    }
   ],
   "source": [
    "print (\"After training for {} epochs\".format(num_epochs))\n",
    "print (\"Val Acc {}\".format(test_model(val_loader, model)))\n",
    "print (\"Test Acc {}\".format(test_model(test_loader, model)))"
   ]
  },
  {
   "cell_type": "code",
   "execution_count": 46,
   "metadata": {},
   "outputs": [
    {
     "name": "stdout",
     "output_type": "stream",
     "text": [
      "89.78\n"
     ]
    }
   ],
   "source": [
    "print(max(val_acc_list))"
   ]
  },
  {
   "cell_type": "code",
   "execution_count": 163,
   "metadata": {},
   "outputs": [
    {
     "name": "stdout",
     "output_type": "stream",
     "text": [
      "89.66 89.52 89.6\n"
     ]
    }
   ],
   "source": [
    "print(max(val_acc_list_100), max(val_acc_list_200), max(val_acc_list_300))"
   ]
  },
  {
   "cell_type": "code",
   "execution_count": 152,
   "metadata": {},
   "outputs": [
    {
     "data": {
      "image/png": "[encoded data removed]",
      "text/plain": [
       "<matplotlib.figure.Figure at 0x1a2a5daa58>"
      ]
     },
     "metadata": {},
     "output_type": "display_data"
    }
   ],
   "source": [
    "import matplotlib.pyplot as plt\n",
    "\n",
    "plt.plot(val_acc_list_100, label = 'emb_size = 100')\n",
    "plt.plot(val_acc_list_200, label = 'emb_size = 200')\n",
    "plt.plot(val_acc_list_300, label = 'emb_size = 300')\n",
    "\n",
    "plt.xlabel('iterations')\n",
    "plt.ylabel('validation accuracy')\n",
    "plt.title('Validation accuracy for different embedding size')\n",
    "plt.legend()\n",
    "plt.show()"
   ]
  },
  {
   "cell_type": "code",
   "execution_count": 157,
   "metadata": {},
   "outputs": [],
   "source": [
    "loss_list_100 = [float(x) for x in loss_list_100]\n",
    "loss_list_200 = [float(x) for x in loss_list_200]\n",
    "loss_list_300 = [float(x) for x in loss_list_300]"
   ]
  },
  {
   "cell_type": "code",
   "execution_count": 158,
   "metadata": {},
   "outputs": [
    {
     "data": {
      "image/png": "[encoded data removed]",
      "text/plain": [
       "<matplotlib.figure.Figure at 0x1a30a0a588>"
      ]
     },
     "metadata": {},
     "output_type": "display_data"
    }
   ],
   "source": [
    "plt.plot(loss_list_100, label = 'emb_size = 100')\n",
    "plt.plot(loss_list_200, label = 'emb_size = 200')\n",
    "plt.plot(loss_list_300, label = 'emb_size = 300')\n",
    "\n",
    "plt.xlabel('iterations')\n",
    "plt.ylabel('train loss')\n",
    "plt.title('train loss for different embedding size')\n",
    "plt.legend()\n",
    "plt.show()"
   ]
  },
  {
   "cell_type": "markdown",
   "metadata": {},
   "source": [
    "# n-gram models"
   ]
  },
  {
   "cell_type": "code",
   "execution_count": 20,
   "metadata": {},
   "outputs": [],
   "source": [
    "def tokenize_dataset_ngram(dataset, n = 1):\n",
    "    token_dataset = []\n",
    "    all_tokens = []\n",
    "    \n",
    "    for sample in dataset:\n",
    "        tokens = tokenize(sample)\n",
    "        n_gram_tokens = []\n",
    "        for i in range(len(tokens) - n + 1):\n",
    "            n_gram_tokens.append(' '.join(tokens[i:i + n]))\n",
    "        token_dataset.append(tokens)\n",
    "        all_tokens += tokens\n",
    "\n",
    "    return token_dataset, all_tokens"
   ]
  },
  {
   "cell_type": "code",
   "execution_count": 21,
   "metadata": {},
   "outputs": [
    {
     "name": "stdout",
     "output_type": "stream",
     "text": [
      "Tokenizing val data\n",
      "Tokenizing test data\n",
      "Tokenizing train data\n"
     ]
    }
   ],
   "source": [
    "#tokenize bi-gram\n",
    "# val set tokens\n",
    "print (\"Tokenizing val data\")\n",
    "val_data_2gram, _ = tokenize_dataset_ngram(val_data, n = 2)\n",
    "pkl.dump(val_data_2gram, open(\"val_data_2gram.p\", \"wb\"))\n",
    "\n",
    "# test set tokens\n",
    "print (\"Tokenizing test data\")\n",
    "test_data_2gram, _ = tokenize_dataset_ngram(test_data, n = 2)\n",
    "pkl.dump(test_data_2gram, open(\"test_data_2gram.p\", \"wb\"))\n",
    "\n",
    "# train set tokens\n",
    "print (\"Tokenizing train data\")\n",
    "train_data_2gram, train_data_2 = tokenize_dataset_ngram(train_data, n = 2)\n",
    "pkl.dump(train_data_2gram, open(\"train_data_2gram.p\", \"wb\"))\n",
    "pkl.dump(train_data_2, open(\"train_data_2.p\", \"wb\"))"
   ]
  },
  {
   "cell_type": "code",
   "execution_count": 22,
   "metadata": {},
   "outputs": [
    {
     "name": "stdout",
     "output_type": "stream",
     "text": [
      "Tokenizing val data\n",
      "Tokenizing test data\n",
      "Tokenizing train data\n"
     ]
    }
   ],
   "source": [
    "#tokenize tri-gram\n",
    "# val set tokens\n",
    "print (\"Tokenizing val data\")\n",
    "val_data_3gram, _ = tokenize_dataset_ngram(val_data, n = 3)\n",
    "pkl.dump(val_data_3gram, open(\"val_data_3gram.p\", \"wb\"))\n",
    "\n",
    "# test set tokens\n",
    "print (\"Tokenizing test data\")\n",
    "test_data_3gram, _ = tokenize_dataset_ngram(test_data, n = 3)\n",
    "pkl.dump(test_data_3gram, open(\"test_data_3gram.p\", \"wb\"))\n",
    "\n",
    "# train set tokens\n",
    "print (\"Tokenizing train data\")\n",
    "train_data_3gram, train_data_3 = tokenize_dataset_ngram(train_data, n = 3)\n",
    "pkl.dump(train_data_3gram, open(\"train_data_3gram.p\", \"wb\"))\n",
    "pkl.dump(train_data_3, open(\"train_data_3.p\", \"wb\"))"
   ]
  },
  {
   "cell_type": "code",
   "execution_count": 23,
   "metadata": {},
   "outputs": [
    {
     "name": "stdout",
     "output_type": "stream",
     "text": [
      "Tokenizing val data\n",
      "Tokenizing test data\n",
      "Tokenizing train data\n"
     ]
    }
   ],
   "source": [
    "#tokenize four-gram\n",
    "# val set tokens\n",
    "print (\"Tokenizing val data\")\n",
    "val_data_4gram, _ = tokenize_dataset_ngram(val_data, n = 4)\n",
    "pkl.dump(val_data_4gram, open(\"val_data_2gram.p\", \"wb\"))\n",
    "\n",
    "# test set tokens\n",
    "print (\"Tokenizing test data\")\n",
    "test_data_4gram, _ = tokenize_dataset_ngram(test_data, n = 4)\n",
    "pkl.dump(test_data_4gram, open(\"test_data_4gram.p\", \"wb\"))\n",
    "\n",
    "# train set tokens\n",
    "print (\"Tokenizing train data\")\n",
    "train_data_4gram, train_data_4 = tokenize_dataset_ngram(train_data, n = 4)\n",
    "pkl.dump(train_data_4gram, open(\"train_data_4gram.p\", \"wb\"))\n",
    "pkl.dump(train_data_4, open(\"train_data_4.p\", \"wb\"))"
   ]
  },
  {
   "cell_type": "code",
   "execution_count": 31,
   "metadata": {},
   "outputs": [
    {
     "name": "stdout",
     "output_type": "stream",
     "text": [
      "Token id 7484 ; token sitcoms\n",
      "Token sitcoms; token id 7484\n",
      "Train dataset size is 20000\n",
      "Val dataset size is 5000\n",
      "Test dataset size is 25000\n",
      "Epoch: [1/3], Step: [51/625], Validation Acc: 54.28\n",
      "Epoch: [1/3], Step: [101/625], Validation Acc: 81.28\n",
      "Epoch: [1/3], Step: [151/625], Validation Acc: 78.36\n",
      "Epoch: [1/3], Step: [201/625], Validation Acc: 85.88\n",
      "Epoch: [1/3], Step: [251/625], Validation Acc: 86.0\n",
      "Epoch: [1/3], Step: [301/625], Validation Acc: 87.96\n",
      "Epoch: [1/3], Step: [351/625], Validation Acc: 88.54\n",
      "Epoch: [1/3], Step: [401/625], Validation Acc: 87.66\n",
      "Epoch: [1/3], Step: [451/625], Validation Acc: 88.06\n",
      "Epoch: [1/3], Step: [501/625], Validation Acc: 88.82\n",
      "Epoch: [1/3], Step: [551/625], Validation Acc: 88.5\n",
      "Epoch: [1/3], Step: [601/625], Validation Acc: 89.5\n",
      "Epoch: [2/3], Step: [51/625], Validation Acc: 88.56\n",
      "Epoch: [2/3], Step: [101/625], Validation Acc: 89.32\n",
      "Epoch: [2/3], Step: [151/625], Validation Acc: 89.42\n",
      "Epoch: [2/3], Step: [201/625], Validation Acc: 89.18\n",
      "Epoch: [2/3], Step: [251/625], Validation Acc: 88.22\n",
      "Epoch: [2/3], Step: [301/625], Validation Acc: 89.2\n",
      "Epoch: [2/3], Step: [351/625], Validation Acc: 88.76\n",
      "Epoch: [2/3], Step: [401/625], Validation Acc: 88.66\n",
      "Epoch: [2/3], Step: [451/625], Validation Acc: 87.32\n",
      "Epoch: [2/3], Step: [501/625], Validation Acc: 89.5\n",
      "Epoch: [2/3], Step: [551/625], Validation Acc: 87.9\n",
      "Epoch: [2/3], Step: [601/625], Validation Acc: 89.3\n",
      "Epoch: [3/3], Step: [51/625], Validation Acc: 89.76\n",
      "Epoch: [3/3], Step: [101/625], Validation Acc: 89.86\n",
      "Epoch: [3/3], Step: [151/625], Validation Acc: 88.48\n",
      "Epoch: [3/3], Step: [201/625], Validation Acc: 89.18\n",
      "Epoch: [3/3], Step: [251/625], Validation Acc: 88.96\n",
      "Epoch: [3/3], Step: [301/625], Validation Acc: 88.1\n",
      "Epoch: [3/3], Step: [351/625], Validation Acc: 89.22\n",
      "Epoch: [3/3], Step: [401/625], Validation Acc: 88.74\n",
      "Epoch: [3/3], Step: [451/625], Validation Acc: 88.78\n",
      "Epoch: [3/3], Step: [501/625], Validation Acc: 89.06\n",
      "Epoch: [3/3], Step: [551/625], Validation Acc: 88.92\n",
      "Epoch: [3/3], Step: [601/625], Validation Acc: 88.78\n"
     ]
    }
   ],
   "source": [
    "token2id, id2token = build_vocab(all_train_tokens, 10000)\n",
    "#check the dictionary\n",
    "random_token_id = random.randint(0, len(id2token)-1)\n",
    "random_token = id2token[random_token_id]\n",
    "print (\"Token id {} ; token {}\".format(random_token_id, id2token[random_token_id]))\n",
    "print (\"Token {}; token id {}\".format(random_token, token2id[random_token]))\n",
    "    \n",
    "train_data_indices = token2index_dataset(train_data_tokens)\n",
    "val_data_indices = token2index_dataset(val_data_tokens)\n",
    "test_data_indices = token2index_dataset(test_data_tokens)\n",
    "    \n",
    "# double checking\n",
    "print (\"Train dataset size is {}\".format(len(train_data_indices)))\n",
    "print (\"Val dataset size is {}\".format(len(val_data_indices)))\n",
    "print (\"Test dataset size is {}\".format(len(test_data_indices)))\n",
    "    \n",
    "BATCH_SIZE = 32\n",
    "train_dataset = IMDBDataset(train_data_indices, train_targets)\n",
    "train_loader = torch.utils.data.DataLoader(dataset=train_dataset, \n",
    "                                           batch_size=BATCH_SIZE,\n",
    "                                           collate_fn=IMDB_collate_func,\n",
    "                                           shuffle=True)\n",
    "\n",
    "val_dataset = IMDBDataset(val_data_indices, val_targets)\n",
    "val_loader = torch.utils.data.DataLoader(dataset=val_dataset, \n",
    "                                           batch_size=BATCH_SIZE,\n",
    "                                           collate_fn=IMDB_collate_func,\n",
    "                                           shuffle=False)\n",
    "\n",
    "test_dataset = IMDBDataset(test_data_indices, test_targets)\n",
    "test_loader = torch.utils.data.DataLoader(dataset=test_dataset, \n",
    "                                           batch_size=BATCH_SIZE,\n",
    "                                           collate_fn=IMDB_collate_func,\n",
    "                                           shuffle=False)\n",
    "    \n",
    "emb_dim = 100\n",
    "model = BagOfWords(len(id2token), emb_dim)\n",
    "\n",
    "learning_rate = 0.01\n",
    "num_epochs = 3 # number epoch to train\n",
    "    \n",
    "# Criterion and Optimizer\n",
    "criterion = torch.nn.CrossEntropyLoss()  \n",
    "optimizer = torch.optim.Adam(model.parameters(), lr=learning_rate)\n",
    "\n",
    "loss_list_1 = []\n",
    "val_acc_list_1 = []\n",
    "\n",
    "for epoch in range(num_epochs):\n",
    "#scheduler.step()\n",
    "    for i, (data, lengths, labels) in enumerate(train_loader):\n",
    "        model.train()\n",
    "        data_batch, length_batch, label_batch = data, lengths, labels\n",
    "        optimizer.zero_grad()\n",
    "        outputs = model(data_batch, length_batch)\n",
    "        loss = criterion(outputs, label_batch)\n",
    "        loss_list_1.append(loss)\n",
    "        loss.backward()\n",
    "        optimizer.step()\n",
    "        \n",
    "        # validate every 100 iterations\n",
    "        if i > 0 and i % 50 == 0:\n",
    "            # validate\n",
    "            val_acc = test_model(val_loader, model)\n",
    "            val_acc_list_1.append(val_acc)\n",
    "            print('Epoch: [{}/{}], Step: [{}/{}], Validation Acc: {}'.format( \n",
    "                       epoch+1, num_epochs, i+1, len(train_loader), val_acc))\n",
    "    \n"
   ]
  },
  {
   "cell_type": "code",
   "execution_count": 32,
   "metadata": {},
   "outputs": [
    {
     "name": "stdout",
     "output_type": "stream",
     "text": [
      "After training for 3 epochs\n",
      "Val Acc 88.06\n",
      "Test Acc 85.9\n"
     ]
    }
   ],
   "source": [
    "print (\"After training for {} epochs\".format(num_epochs))\n",
    "print (\"Val Acc {}\".format(test_model(val_loader, model)))\n",
    "print (\"Test Acc {}\".format(test_model(test_loader, model)))"
   ]
  },
  {
   "cell_type": "code",
   "execution_count": 52,
   "metadata": {},
   "outputs": [
    {
     "name": "stdout",
     "output_type": "stream",
     "text": [
      "Token id 8346 ; token reject\n",
      "Token reject; token id 8346\n",
      "Train dataset size is 20000\n",
      "Val dataset size is 5000\n",
      "Test dataset size is 25000\n",
      "Epoch: [1/3], Step: [51/625], Validation Acc: 67.3\n",
      "Epoch: [1/3], Step: [101/625], Validation Acc: 74.82\n",
      "Epoch: [1/3], Step: [151/625], Validation Acc: 85.04\n",
      "Epoch: [1/3], Step: [201/625], Validation Acc: 86.36\n",
      "Epoch: [1/3], Step: [251/625], Validation Acc: 86.86\n",
      "Epoch: [1/3], Step: [301/625], Validation Acc: 87.88\n",
      "Epoch: [1/3], Step: [351/625], Validation Acc: 88.16\n",
      "Epoch: [1/3], Step: [401/625], Validation Acc: 87.3\n",
      "Epoch: [1/3], Step: [451/625], Validation Acc: 88.08\n",
      "Epoch: [1/3], Step: [501/625], Validation Acc: 88.76\n",
      "Epoch: [1/3], Step: [551/625], Validation Acc: 89.0\n",
      "Epoch: [1/3], Step: [601/625], Validation Acc: 89.42\n",
      "Epoch: [2/3], Step: [51/625], Validation Acc: 89.66\n",
      "Epoch: [2/3], Step: [101/625], Validation Acc: 89.72\n",
      "Epoch: [2/3], Step: [151/625], Validation Acc: 89.24\n",
      "Epoch: [2/3], Step: [201/625], Validation Acc: 88.78\n",
      "Epoch: [2/3], Step: [251/625], Validation Acc: 88.74\n",
      "Epoch: [2/3], Step: [301/625], Validation Acc: 88.96\n",
      "Epoch: [2/3], Step: [351/625], Validation Acc: 89.6\n",
      "Epoch: [2/3], Step: [401/625], Validation Acc: 89.6\n",
      "Epoch: [2/3], Step: [451/625], Validation Acc: 88.58\n",
      "Epoch: [2/3], Step: [501/625], Validation Acc: 89.36\n",
      "Epoch: [2/3], Step: [551/625], Validation Acc: 89.44\n",
      "Epoch: [2/3], Step: [601/625], Validation Acc: 89.28\n",
      "Epoch: [3/3], Step: [51/625], Validation Acc: 89.76\n",
      "Epoch: [3/3], Step: [101/625], Validation Acc: 89.54\n",
      "Epoch: [3/3], Step: [151/625], Validation Acc: 89.52\n",
      "Epoch: [3/3], Step: [201/625], Validation Acc: 89.32\n",
      "Epoch: [3/3], Step: [251/625], Validation Acc: 89.02\n",
      "Epoch: [3/3], Step: [301/625], Validation Acc: 88.78\n",
      "Epoch: [3/3], Step: [351/625], Validation Acc: 88.92\n",
      "Epoch: [3/3], Step: [401/625], Validation Acc: 89.02\n",
      "Epoch: [3/3], Step: [451/625], Validation Acc: 88.34\n",
      "Epoch: [3/3], Step: [501/625], Validation Acc: 89.1\n",
      "Epoch: [3/3], Step: [551/625], Validation Acc: 88.48\n",
      "Epoch: [3/3], Step: [601/625], Validation Acc: 86.72\n"
     ]
    }
   ],
   "source": [
    "token2id, id2token = build_vocab(train_data_2, 10000)\n",
    "#check the dictionary\n",
    "random_token_id = random.randint(0, len(id2token)-1)\n",
    "random_token = id2token[random_token_id]\n",
    "print (\"Token id {} ; token {}\".format(random_token_id, id2token[random_token_id]))\n",
    "print (\"Token {}; token id {}\".format(random_token, token2id[random_token]))\n",
    "    \n",
    "train_data_indices = token2index_dataset(train_data_2gram)\n",
    "val_data_indices = token2index_dataset(val_data_2gram)\n",
    "test_data_indices = token2index_dataset(test_data_2gram)\n",
    "    \n",
    "# double checking\n",
    "print (\"Train dataset size is {}\".format(len(train_data_indices)))\n",
    "print (\"Val dataset size is {}\".format(len(val_data_indices)))\n",
    "print (\"Test dataset size is {}\".format(len(test_data_indices)))\n",
    "    \n",
    "BATCH_SIZE = 32\n",
    "train_dataset = IMDBDataset(train_data_indices, train_targets)\n",
    "train_loader = torch.utils.data.DataLoader(dataset=train_dataset, \n",
    "                                           batch_size=BATCH_SIZE,\n",
    "                                           collate_fn=IMDB_collate_func,\n",
    "                                           shuffle=True)\n",
    "\n",
    "val_dataset = IMDBDataset(val_data_indices, val_targets)\n",
    "val_loader = torch.utils.data.DataLoader(dataset=val_dataset, \n",
    "                                           batch_size=BATCH_SIZE,\n",
    "                                           collate_fn=IMDB_collate_func,\n",
    "                                           shuffle=False)\n",
    "\n",
    "test_dataset = IMDBDataset(test_data_indices, test_targets)\n",
    "test_loader = torch.utils.data.DataLoader(dataset=test_dataset, \n",
    "                                           batch_size=BATCH_SIZE,\n",
    "                                           collate_fn=IMDB_collate_func,\n",
    "                                           shuffle=False)\n",
    "    \n",
    "emb_dim = 100\n",
    "model = BagOfWords(len(id2token), emb_dim)\n",
    "\n",
    "learning_rate = 0.01\n",
    "num_epochs = 3 # number epoch to train\n",
    "    \n",
    "# Criterion and Optimizer\n",
    "criterion = torch.nn.CrossEntropyLoss()  \n",
    "optimizer = torch.optim.Adam(model.parameters(), lr=learning_rate)\n",
    "\n",
    "loss_list_2 = []\n",
    "val_acc_list_2 = []\n",
    "\n",
    "for epoch in range(num_epochs):\n",
    "#scheduler.step()\n",
    "    for i, (data, lengths, labels) in enumerate(train_loader):\n",
    "        model.train()\n",
    "        data_batch, length_batch, label_batch = data, lengths, labels\n",
    "        optimizer.zero_grad()\n",
    "        outputs = model(data_batch, length_batch)\n",
    "        loss = criterion(outputs, label_batch)\n",
    "        loss_list_2.append(loss)\n",
    "        loss.backward()\n",
    "        optimizer.step()\n",
    "        \n",
    "    # validate every 100 iterations\n",
    "        if i > 0 and i % 50 == 0:\n",
    "        # validate\n",
    "            val_acc = test_model(val_loader, model)\n",
    "            val_acc_list_2.append(val_acc)\n",
    "            print('Epoch: [{}/{}], Step: [{}/{}], Validation Acc: {}'.format( \n",
    "                       epoch+1, num_epochs, i+1, len(train_loader), val_acc))\n",
    "    \n",
    "\n",
    "\n"
   ]
  },
  {
   "cell_type": "code",
   "execution_count": 53,
   "metadata": {},
   "outputs": [
    {
     "name": "stdout",
     "output_type": "stream",
     "text": [
      "After training for 3 epochs\n",
      "Val Acc 89.08\n",
      "Test Acc 86.516\n"
     ]
    }
   ],
   "source": [
    "print (\"After training for {} epochs\".format(num_epochs))\n",
    "print (\"Val Acc {}\".format(test_model(val_loader, model)))\n",
    "print (\"Test Acc {}\".format(test_model(test_loader, model)))"
   ]
  },
  {
   "cell_type": "code",
   "execution_count": 37,
   "metadata": {},
   "outputs": [
    {
     "name": "stdout",
     "output_type": "stream",
     "text": [
      "Token id 3327 ; token perfection\n",
      "Token perfection; token id 3327\n",
      "Train dataset size is 20000\n",
      "Val dataset size is 5000\n",
      "Test dataset size is 25000\n",
      "Epoch: [1/3], Step: [51/625], Validation Acc: 64.48\n",
      "Epoch: [1/3], Step: [101/625], Validation Acc: 79.48\n",
      "Epoch: [1/3], Step: [151/625], Validation Acc: 85.26\n",
      "Epoch: [1/3], Step: [201/625], Validation Acc: 85.26\n",
      "Epoch: [1/3], Step: [251/625], Validation Acc: 86.54\n",
      "Epoch: [1/3], Step: [301/625], Validation Acc: 87.38\n",
      "Epoch: [1/3], Step: [351/625], Validation Acc: 88.1\n",
      "Epoch: [1/3], Step: [401/625], Validation Acc: 87.08\n",
      "Epoch: [1/3], Step: [451/625], Validation Acc: 88.62\n",
      "Epoch: [1/3], Step: [501/625], Validation Acc: 88.8\n",
      "Epoch: [1/3], Step: [551/625], Validation Acc: 89.2\n",
      "Epoch: [1/3], Step: [601/625], Validation Acc: 89.46\n",
      "Epoch: [2/3], Step: [51/625], Validation Acc: 89.22\n",
      "Epoch: [2/3], Step: [101/625], Validation Acc: 89.84\n",
      "Epoch: [2/3], Step: [151/625], Validation Acc: 88.38\n",
      "Epoch: [2/3], Step: [201/625], Validation Acc: 89.44\n",
      "Epoch: [2/3], Step: [251/625], Validation Acc: 89.42\n",
      "Epoch: [2/3], Step: [301/625], Validation Acc: 89.5\n",
      "Epoch: [2/3], Step: [351/625], Validation Acc: 89.12\n",
      "Epoch: [2/3], Step: [401/625], Validation Acc: 87.82\n",
      "Epoch: [2/3], Step: [451/625], Validation Acc: 89.42\n",
      "Epoch: [2/3], Step: [501/625], Validation Acc: 88.46\n",
      "Epoch: [2/3], Step: [551/625], Validation Acc: 89.54\n",
      "Epoch: [2/3], Step: [601/625], Validation Acc: 89.66\n",
      "Epoch: [3/3], Step: [51/625], Validation Acc: 89.74\n",
      "Epoch: [3/3], Step: [101/625], Validation Acc: 89.5\n",
      "Epoch: [3/3], Step: [151/625], Validation Acc: 89.28\n",
      "Epoch: [3/3], Step: [201/625], Validation Acc: 88.64\n",
      "Epoch: [3/3], Step: [251/625], Validation Acc: 88.34\n",
      "Epoch: [3/3], Step: [301/625], Validation Acc: 88.7\n",
      "Epoch: [3/3], Step: [351/625], Validation Acc: 88.7\n",
      "Epoch: [3/3], Step: [401/625], Validation Acc: 89.1\n",
      "Epoch: [3/3], Step: [451/625], Validation Acc: 88.76\n",
      "Epoch: [3/3], Step: [501/625], Validation Acc: 88.64\n",
      "Epoch: [3/3], Step: [551/625], Validation Acc: 88.76\n",
      "Epoch: [3/3], Step: [601/625], Validation Acc: 88.22\n"
     ]
    }
   ],
   "source": [
    "token2id, id2token = build_vocab(train_data_3, 10000)\n",
    "#check the dictionary\n",
    "random_token_id = random.randint(0, len(id2token)-1)\n",
    "random_token = id2token[random_token_id]\n",
    "print (\"Token id {} ; token {}\".format(random_token_id, id2token[random_token_id]))\n",
    "print (\"Token {}; token id {}\".format(random_token, token2id[random_token]))\n",
    "    \n",
    "train_data_indices = token2index_dataset(train_data_3gram)\n",
    "val_data_indices = token2index_dataset(val_data_3gram)\n",
    "test_data_indices = token2index_dataset(test_data_3gram)\n",
    "    \n",
    "# double checking\n",
    "print (\"Train dataset size is {}\".format(len(train_data_indices)))\n",
    "print (\"Val dataset size is {}\".format(len(val_data_indices)))\n",
    "print (\"Test dataset size is {}\".format(len(test_data_indices)))\n",
    "    \n",
    "BATCH_SIZE = 32\n",
    "train_dataset = IMDBDataset(train_data_indices, train_targets)\n",
    "train_loader = torch.utils.data.DataLoader(dataset=train_dataset, \n",
    "                                           batch_size=BATCH_SIZE,\n",
    "                                           collate_fn=IMDB_collate_func,\n",
    "                                           shuffle=True)\n",
    "\n",
    "val_dataset = IMDBDataset(val_data_indices, val_targets)\n",
    "val_loader = torch.utils.data.DataLoader(dataset=val_dataset, \n",
    "                                           batch_size=BATCH_SIZE,\n",
    "                                           collate_fn=IMDB_collate_func,\n",
    "                                           shuffle=False)\n",
    "\n",
    "test_dataset = IMDBDataset(test_data_indices, test_targets)\n",
    "test_loader = torch.utils.data.DataLoader(dataset=test_dataset, \n",
    "                                           batch_size=BATCH_SIZE,\n",
    "                                           collate_fn=IMDB_collate_func,\n",
    "                                           shuffle=False)\n",
    "    \n",
    "emb_dim = 100\n",
    "model = BagOfWords(len(id2token), emb_dim)\n",
    "\n",
    "learning_rate = 0.01\n",
    "num_epochs = 3 # number epoch to train\n",
    "    \n",
    "# Criterion and Optimizer\n",
    "criterion = torch.nn.CrossEntropyLoss()  \n",
    "optimizer = torch.optim.Adam(model.parameters(), lr=learning_rate)\n",
    "\n",
    "loss_list_3 = []\n",
    "val_acc_list_3 = []\n",
    "\n",
    "for epoch in range(num_epochs):\n",
    "#scheduler.step()\n",
    "    for i, (data, lengths, labels) in enumerate(train_loader):\n",
    "        model.train()\n",
    "        data_batch, length_batch, label_batch = data, lengths, labels\n",
    "        optimizer.zero_grad()\n",
    "        outputs = model(data_batch, length_batch)\n",
    "        loss = criterion(outputs, label_batch)\n",
    "        loss_list_3.append(loss)\n",
    "        loss.backward()\n",
    "        optimizer.step()\n",
    "        \n",
    "    # validate every 100 iterations\n",
    "        if i > 0 and i % 50 == 0:\n",
    "        # validate\n",
    "            val_acc = test_model(val_loader, model)\n",
    "            val_acc_list_3.append(val_acc)\n",
    "            print('Epoch: [{}/{}], Step: [{}/{}], Validation Acc: {}'.format( \n",
    "                       epoch+1, num_epochs, i+1, len(train_loader), val_acc))\n",
    "    \n",
    "\n"
   ]
  },
  {
   "cell_type": "code",
   "execution_count": 38,
   "metadata": {},
   "outputs": [
    {
     "name": "stdout",
     "output_type": "stream",
     "text": [
      "After training for 3 epochs\n",
      "Val Acc 88.96\n",
      "Test Acc 86.42\n"
     ]
    }
   ],
   "source": [
    "print (\"After training for {} epochs\".format(num_epochs))\n",
    "print (\"Val Acc {}\".format(test_model(val_loader, model)))\n",
    "print (\"Test Acc {}\".format(test_model(test_loader, model)))"
   ]
  },
  {
   "cell_type": "code",
   "execution_count": 39,
   "metadata": {},
   "outputs": [
    {
     "name": "stdout",
     "output_type": "stream",
     "text": [
      "Token id 4265 ; token bonus\n",
      "Token bonus; token id 4265\n",
      "Train dataset size is 20000\n",
      "Val dataset size is 5000\n",
      "Test dataset size is 25000\n",
      "Epoch: [1/3], Step: [51/625], Validation Acc: 65.3\n",
      "Epoch: [1/3], Step: [101/625], Validation Acc: 76.9\n",
      "Epoch: [1/3], Step: [151/625], Validation Acc: 83.58\n",
      "Epoch: [1/3], Step: [201/625], Validation Acc: 86.06\n",
      "Epoch: [1/3], Step: [251/625], Validation Acc: 86.68\n",
      "Epoch: [1/3], Step: [301/625], Validation Acc: 85.02\n",
      "Epoch: [1/3], Step: [351/625], Validation Acc: 86.62\n",
      "Epoch: [1/3], Step: [401/625], Validation Acc: 88.02\n",
      "Epoch: [1/3], Step: [451/625], Validation Acc: 88.72\n",
      "Epoch: [1/3], Step: [501/625], Validation Acc: 89.28\n",
      "Epoch: [1/3], Step: [551/625], Validation Acc: 85.86\n",
      "Epoch: [1/3], Step: [601/625], Validation Acc: 89.72\n",
      "Epoch: [2/3], Step: [51/625], Validation Acc: 88.94\n",
      "Epoch: [2/3], Step: [101/625], Validation Acc: 89.4\n",
      "Epoch: [2/3], Step: [151/625], Validation Acc: 88.94\n",
      "Epoch: [2/3], Step: [201/625], Validation Acc: 89.34\n",
      "Epoch: [2/3], Step: [251/625], Validation Acc: 88.54\n",
      "Epoch: [2/3], Step: [301/625], Validation Acc: 89.42\n",
      "Epoch: [2/3], Step: [351/625], Validation Acc: 89.56\n",
      "Epoch: [2/3], Step: [401/625], Validation Acc: 89.32\n",
      "Epoch: [2/3], Step: [451/625], Validation Acc: 87.08\n",
      "Epoch: [2/3], Step: [501/625], Validation Acc: 89.38\n",
      "Epoch: [2/3], Step: [551/625], Validation Acc: 89.38\n",
      "Epoch: [2/3], Step: [601/625], Validation Acc: 89.68\n",
      "Epoch: [3/3], Step: [51/625], Validation Acc: 89.34\n",
      "Epoch: [3/3], Step: [101/625], Validation Acc: 89.58\n",
      "Epoch: [3/3], Step: [151/625], Validation Acc: 89.14\n",
      "Epoch: [3/3], Step: [201/625], Validation Acc: 89.12\n",
      "Epoch: [3/3], Step: [251/625], Validation Acc: 88.78\n",
      "Epoch: [3/3], Step: [301/625], Validation Acc: 89.2\n",
      "Epoch: [3/3], Step: [351/625], Validation Acc: 89.04\n",
      "Epoch: [3/3], Step: [401/625], Validation Acc: 88.76\n",
      "Epoch: [3/3], Step: [451/625], Validation Acc: 88.66\n",
      "Epoch: [3/3], Step: [501/625], Validation Acc: 87.6\n",
      "Epoch: [3/3], Step: [551/625], Validation Acc: 88.3\n",
      "Epoch: [3/3], Step: [601/625], Validation Acc: 89.06\n"
     ]
    }
   ],
   "source": [
    "token2id, id2token = build_vocab(train_data_4, 10000)\n",
    "#check the dictionary\n",
    "random_token_id = random.randint(0, len(id2token)-1)\n",
    "random_token = id2token[random_token_id]\n",
    "print (\"Token id {} ; token {}\".format(random_token_id, id2token[random_token_id]))\n",
    "print (\"Token {}; token id {}\".format(random_token, token2id[random_token]))\n",
    "    \n",
    "train_data_indices = token2index_dataset(train_data_4gram)\n",
    "val_data_indices = token2index_dataset(val_data_4gram)\n",
    "test_data_indices = token2index_dataset(test_data_4gram)\n",
    "    \n",
    "# double checking\n",
    "print (\"Train dataset size is {}\".format(len(train_data_indices)))\n",
    "print (\"Val dataset size is {}\".format(len(val_data_indices)))\n",
    "print (\"Test dataset size is {}\".format(len(test_data_indices)))\n",
    "    \n",
    "BATCH_SIZE = 32\n",
    "train_dataset = IMDBDataset(train_data_indices, train_targets)\n",
    "train_loader = torch.utils.data.DataLoader(dataset=train_dataset, \n",
    "                                           batch_size=BATCH_SIZE,\n",
    "                                           collate_fn=IMDB_collate_func,\n",
    "                                           shuffle=True)\n",
    "\n",
    "val_dataset = IMDBDataset(val_data_indices, val_targets)\n",
    "val_loader = torch.utils.data.DataLoader(dataset=val_dataset, \n",
    "                                           batch_size=BATCH_SIZE,\n",
    "                                           collate_fn=IMDB_collate_func,\n",
    "                                           shuffle=False)\n",
    "\n",
    "test_dataset = IMDBDataset(test_data_indices, test_targets)\n",
    "test_loader = torch.utils.data.DataLoader(dataset=test_dataset, \n",
    "                                           batch_size=BATCH_SIZE,\n",
    "                                           collate_fn=IMDB_collate_func,\n",
    "                                           shuffle=False)\n",
    "    \n",
    "emb_dim = 100\n",
    "model = BagOfWords(len(id2token), emb_dim)\n",
    "\n",
    "learning_rate = 0.01\n",
    "num_epochs = 3 # number epoch to train\n",
    "    \n",
    "# Criterion and Optimizer\n",
    "criterion = torch.nn.CrossEntropyLoss()  \n",
    "optimizer = torch.optim.Adam(model.parameters(), lr=learning_rate)\n",
    "\n",
    "loss_list_4 = []\n",
    "val_acc_list_4 = []\n",
    "\n",
    "for epoch in range(num_epochs):\n",
    "#scheduler.step()\n",
    "    for i, (data, lengths, labels) in enumerate(train_loader):\n",
    "        model.train()\n",
    "        data_batch, length_batch, label_batch = data, lengths, labels\n",
    "        optimizer.zero_grad()\n",
    "        outputs = model(data_batch, length_batch)\n",
    "        loss = criterion(outputs, label_batch)\n",
    "        loss_list_4.append(loss)\n",
    "        loss.backward()\n",
    "        optimizer.step()\n",
    "        \n",
    "        # validate every 100 iterations\n",
    "        if i > 0 and i % 50 == 0:\n",
    "        # validate\n",
    "            val_acc = test_model(val_loader, model)\n",
    "            val_acc_list_4.append(val_acc)\n",
    "            print('Epoch: [{}/{}], Step: [{}/{}], Validation Acc: {}'.format( \n",
    "                       epoch+1, num_epochs, i+1, len(train_loader), val_acc))\n",
    "    \n",
    "\n"
   ]
  },
  {
   "cell_type": "code",
   "execution_count": 40,
   "metadata": {},
   "outputs": [
    {
     "name": "stdout",
     "output_type": "stream",
     "text": [
      "After training for 3 epochs\n",
      "Val Acc 89.04\n",
      "Test Acc 86.908\n"
     ]
    }
   ],
   "source": [
    "print (\"After training for {} epochs\".format(num_epochs))\n",
    "print (\"Val Acc {}\".format(test_model(val_loader, model)))\n",
    "print (\"Test Acc {}\".format(test_model(test_loader, model)))"
   ]
  },
  {
   "cell_type": "code",
   "execution_count": 54,
   "metadata": {},
   "outputs": [
    {
     "name": "stdout",
     "output_type": "stream",
     "text": [
      "89.86 89.76 89.84 89.72\n"
     ]
    }
   ],
   "source": [
    "print(max(val_acc_list_1), max(val_acc_list_2), max(val_acc_list_3), max(val_acc_list_4))"
   ]
  },
  {
   "cell_type": "code",
   "execution_count": 57,
   "metadata": {},
   "outputs": [
    {
     "data": {
      "image/png": "[encoded data removed]",
      "text/plain": [
       "<matplotlib.figure.Figure at 0x1a63031ac8>"
      ]
     },
     "metadata": {},
     "output_type": "display_data"
    }
   ],
   "source": [
    "plt.plot(val_acc_list_1, label = '1-gram')\n",
    "plt.plot(val_acc_list_2, label = '2-gram')  \n",
    "plt.plot(val_acc_list_3, label = '3-gram')\n",
    "plt.plot(val_acc_list_4, label = '4-gram')\n",
    "    \n",
    "plt.xlabel('iterations')\n",
    "plt.ylabel('validation accuracy')\n",
    "plt.title('Validation loss of N-gram')\n",
    "plt.legend()\n",
    "plt.show()"
   ]
  },
  {
   "cell_type": "code",
   "execution_count": 59,
   "metadata": {},
   "outputs": [],
   "source": [
    "loss_list_1 = [float(x) for x in loss_list_1]\n",
    "loss_list_2 = [float(x) for x in loss_list_2]\n",
    "loss_list_3 = [float(x) for x in loss_list_3]\n",
    "loss_list_4 = [float(x) for x in loss_list_4]"
   ]
  },
  {
   "cell_type": "code",
   "execution_count": 60,
   "metadata": {},
   "outputs": [
    {
     "data": {
      "image/png": "[encoded data removed]",
      "text/plain": [
       "<matplotlib.figure.Figure at 0x1afc512c50>"
      ]
     },
     "metadata": {},
     "output_type": "display_data"
    }
   ],
   "source": [
    "plt.plot(loss_list_1, label = '1-gram')\n",
    "plt.plot(loss_list_2, label = '2-gram')\n",
    "plt.plot(loss_list_3, label = '3-gram')\n",
    "plt.plot(loss_list_4, label = '4-gram')\n",
    "\n",
    "plt.xlabel('iterations')\n",
    "plt.ylabel('train loss')\n",
    "plt.title('Train loss of N-gram')\n",
    "plt.legend()\n",
    "plt.show()"
   ]
  },
  {
   "cell_type": "markdown",
   "metadata": {},
   "source": [
    "# Sample analysis"
   ]
  },
  {
   "cell_type": "code",
   "execution_count": 47,
   "metadata": {},
   "outputs": [],
   "source": [
    "def generate_samples(loader, model):\n",
    "    correct_sample = []\n",
    "    incorrect_sample = []\n",
    "    for data, lengths, labels in loader:\n",
    "        data_batch, length_batch, label_batch = data, lengths, labels\n",
    "        outputs = F.softmax(model(data_batch, length_batch), dim=1)\n",
    "        predicted = outputs.max(1, keepdim=True)[1]\n",
    "        for i, prediction in enumerate(predicted):\n",
    "            if prediction == label_batch[i]:\n",
    "                correct_sample.append([val_data[i], val_targets[i], prediction])\n",
    "            else:\n",
    "                incorrect_sample.append([val_data[i], val_targets[i], prediction])\n",
    "        break\n",
    "    return correct_sample, incorrect_sample"
   ]
  },
  {
   "cell_type": "code",
   "execution_count": 48,
   "metadata": {},
   "outputs": [],
   "source": [
    "correct_predictions, incorrect_predictions = generate_samples(val_loader, model)"
   ]
  },
  {
   "cell_type": "code",
   "execution_count": 49,
   "metadata": {},
   "outputs": [
    {
     "data": {
      "text/plain": [
       "[[\"About two hundred members of a Cleveland Ohio USA film society named Cinematheque gathered on August 19 2000 to view a pristine Cinemascope print of Michelangelo Antonioni's 1970 film Zabriskie Point Cinematheque Director John Ewing who does a superlative job of obtaining the finest prints for his series shared with the audience beforehand that this print was specially flown over from Italy for this one showing only  The audience was held spellbound as the film unfolded its artisty on the huge panoramic screen Watching this superb print shown the way Antonioni intended made one aware that this is indeed a modern art work It was all the more fitting that the series is housed in the Cleveland Insititue of Art in University Circle   Antonioni's compositions are created for the Cinemascope landscape His beautiful balancing of images striking use of colors sweeping choreographic movements all are the work of a genuine artist using the screen as his canvas   At last the audience could understand Zabriskie Point As its narrative unfolded it became obvious that this work is not about story per se but rather an artist's impressionistic rendering of fleeting images of his subject The setting of some of the more turbulent activities of the sixties provides only a dramatic motor for the artist's sweeping collage   Antonioni is not bound by conventional narrative standards and can pause at any point to creatively embroider an event with grandiose embellishments The audience willingly went with the flow of his remarkable imagination as his huge images on the massive canvas held one in rapt attention While the audience may have been only tangentially involved in character relationships it realized the theme here is human aleination the director's recurring theme   It was also realized that no print any smaller or of lesser quality than this original one in Cinemascope can do justice to this particular rendering The audience was therefore all the more appreciative of viewing Zabriskie Point in its original breathtaking format and broke into thunderous applause at the end\",\n",
       "  1,\n",
       "  tensor([1])],\n",
       " [\"I just saw this film @ TIFF Toronto International Film Festival Fans of Hal Hartley will not be disappointed And if you are not familiar with this director's oeuvre  doesn't matter This film can definitely stand all on its own I have to go the second screening  it was amazing I need to see it again  and fast   This film is very funny It's dialogue is very smart and the performance of Parker Posey is outstanding as she stars in the title role of Fay Grim Fay Grim is the latest feature revisiting the world and characters introduced in the film Henry Fool 2000 Visually the most salient stylistic feature employs the habitual use of the canted or dutch angle which can be often seen in past Hartley works appearing in various shorts available in the Possible Films short works by Hal Hartley 19942004 collection and in The Girl from Monday 2005  I viewed this film most aptly on Sept 11th Textually Fay Grim's adventure in this story is backdropped against the changed world after September 11 2001 Without going into major spoilers I view this work and storyworld as a bravely political and original portrait of geopolitics that is rarely if ever foregrounded in mainstream fictional cinema post911 heretofore cf Syrianna of side note  Mark Cuban Exec Prod in both these films  most interesting to say the least   Lastly for those closely attached to the characters of Henry Fool Simone Fay and Henry this film is hilariously selfconscious and selfreferential That being said the character of Fay Grimm starts off in the film exactly where she was when Henry Fool ended but by the end of the film  Fay's knowledge and experience has total changed and expanded over the course of the narrative What can be in store for the future of Fay and the Fool family   I can't wait for the third part in this story\",\n",
       "  1,\n",
       "  tensor([1])],\n",
       " [\"He's stocky sweaty slightly crosseyed and restless He stands in front of us and calls himself a pervert He claims that we Â\\x96 the film viewers Â\\x96 perceive the screen as a toilet bowl and are all secretly wishing for all the s**t to explode from the inside He's unpredictable and scary WellÂ\\x85 Come on you could have guessed by now he's one of the leading philosophers of our age  Slavoj Â\\x8eiÂ\\x9eek is both a narrator and a subject of Sophie Fiennes' extraordinary new film A Pervert's Guide to the Cinema Fiennes illustrates a featurelong lecture by Â\\x8eiÂ\\x9eek and does so in two ways by providing exemplary film clips and putting Â\\x8eiÂ\\x9eek on real or reconstructed locations from the movies he speaks about It's always nice to watch neatly captioned scenes from great movies although Revenge of the Sith got here as well but the main attraction of A Pervert's GuideÂ\\x85 is Â\\x8eiÂ\\x9eek himself What makes the movie such fun to watch is the unanswerable question one cannot help but ask over and over again what is more outrageous Â\\x8eiÂ\\x9eek's views or Â\\x8eiÂ\\x9eek's screen presence In a documentary by Astra Taylor Â\\x8eiÂ\\x9eek 05 Slovenian philosopher at one point confessed his fear of being silent Because he claimed he feels like he doesn't exist in the first place the only way to make all other people believe he does is to talk constantly and feverishly And talk he did and how Also A Pervert's GuideÂ\\x85 is dominated by his voice Â\\x96 delivering perfect English in most crazy way and making some astonishing points about the cinema  What are those Well for example he sees Chaplin's reluctance towards talking picture as a sign of an universal fear of voice itself kind of alien force taking over the human being Â\\x96 think the ventriloquist segment of Dead of Night [45] He says that the perverse nature of cinema is to teach us to desire certain objects not to provide us with them He identifies Groucho Marx as super ego Chico as ego and Harpo as id He says a million other interesting things and all the time we cannot take our eyes off him so persuasive and captivating are his looks At some point I couldn't help but stare at his thick scruffy hair and wonder what kind of a brain lays stored underneath Craving of course for more insights  Most notable are Â\\x8eiÂ\\x9eek's readings of Lynch and Hitchcock which comes as no surprise since he has written about both of them The cumulative effect of many brilliantly edited clips from their respective work made those parts of Â\\x8eiÂ\\x9eek's lecture memorable and Â\\x96 unlike others Â\\x96 difficult to argue with since he seems to really have gotten things right on these two directors This doesn't go for his reading of Tarkovsky for example upon whom he relentlessly imposes his own utterly materialistic view of reality dismissing precisely what's so remarkable in all Tarkovsky namely strong religious intuitions and images  The question isn't whether Â\\x8eiÂ\\x9eek is inspiring and brilliant because he is or whether Fiennes film is worth watching because it is likewise The real question is rather are Â\\x8eiÂ\\x9eek views coherent One smart observation after another make for an overwhelming intellectual ride but after the whole thing is over some doubts remain For example while considering Vertigo 58 Â\\x8eiÂ\\x9eek states that what's hidden behind human face is a perfect void which makes face itself only a facade something of a deception in its own means However when in the final sequence we hear about the evershattering finale of City Lights 31 as being a portrait of one human being fully exposed to another it's hard not to ask what happened to the whole facadethingÂ\\x85 Why should we grant Chaplin's face intrinsic value of the real thing and deprive Kim Novak's of this same privilege in two bold strokesÂ\\x85 Or maybe that incoherence might also be read in Lacan's terms The name of the notoriously unreadable French psychoanalyst is fundamental to Â\\x8eiÂ\\x9eek's thought The film has all the virtues of a splendid twoandahalf hours lecture lots of ground are covered many perspectives employed even some firstrate wisecracks made when Â\\x8eiÂ\\x9eek travels on a Melanie Daniels' boat from The Birds [63] and tries to think as she did he comes up with I want to f**k Mitch But it has also one shortcoming that isn't inherent to twoandahalf hours lecture as such it's almost obsessively digressive Â\\x8eiÂ\\x9eek's yarn about how far are we from the Real is as good as any other psychoanalytic yarn but after some 80 minutes it becomes quite clear that one of Â\\x8eiÂ\\x9eek's perverse pleasures is to ramble on and on changing subjects constantly Overall effect is this of being swept away by a giant cool fizzing wave you're simultaneously taken by surprise refreshed in mortal danger and confused no end As you finish watching your head is brimming with ideas not of your own and you're already planning on rewatching some films Â\\x96 but you also share a sense of having survived a calamity  The ultimate question is did Â\\x8eiÂ\\x9eek lost it Or haven't we even came close to the real thing Once cinephilia becomes punishable by imprisonment we shall all meet in a one big cell and finally talk to each other not having any movies around to turn our faces to I dare you all who will have enough guts to approach Â\\x8eiÂ\\x9eek and defy him My guess is that once you look into those eyes in real life you become a believer\",\n",
       "  1,\n",
       "  tensor([1])]]"
      ]
     },
     "execution_count": 49,
     "metadata": {},
     "output_type": "execute_result"
    }
   ],
   "source": [
    "random.sample(correct_predictions, 3)"
   ]
  },
  {
   "cell_type": "code",
   "execution_count": 51,
   "metadata": {},
   "outputs": [
    {
     "data": {
      "text/plain": [
       "[['Come on people This movie is better than 4 I can see this happeningwealthy people have done crazier things than this And it was funny  I watch a comedy to be entertained escape from the pressures of the world for a short while and not to have to take anything too seriously This movie fully suits that purpose I judge a movie on its own merits and am not about to compare Surviving Christmas to Blazing Saddles I watched totally dysfunctional people grow into caring likable individuals who could easily live down the street from my home It will remain on my list of favoritemust watch for the holiday season If you just want to have a fun 90 minutes watch this one',\n",
       "  1,\n",
       "  tensor([0])],\n",
       " [\"Twisted Desire 1996 was a TV movie starring Melissa Joan Hart Melissa's character Jennifer Stanton a seventeenyearold seduces her current boyfriend Nick Ryan into murdering her two parents The movie is based on the 1990 murders of the parents of 14 year old Jessica Wiseman Jessica had her 17 year old boyfriend Douglas Christopher Thomas shoot and kill her parents Thomas was executed in 2000 Jessica was released from prison when she turned 21 years old Evidence now suggests that it was Jessica who fired the fatal shot that killed her mother Jessica is known to now be residing somewhere in the state of Virginia\",\n",
       "  1,\n",
       "  tensor([0])],\n",
       " ['The movie looked like a walkthrough for Immoral Study Most likely I never got much involved with the burning need of the female artist to immortalize male nudes and thus all that fuss about Now who drew this penis sounded a bit gratuitous Dialogues in this movie are rather dreadful albeit visually this movie got its moments I almost dig it when Tassi got into painting a mental picture but then movie weered back onto penises Highly recommended to those who has not seen one in a while',\n",
       "  1,\n",
       "  tensor([0])]]"
      ]
     },
     "execution_count": 51,
     "metadata": {},
     "output_type": "execute_result"
    }
   ],
   "source": [
    "random.sample(incorrect_predictions, 3)"
   ]
  },
  {
   "cell_type": "code",
   "execution_count": null,
   "metadata": {},
   "outputs": [],
   "source": []
  }
 ],
 "metadata": {
  "kernelspec": {
   "display_name": "Python 3",
   "language": "python",
   "name": "python3"
  },
  "language_info": {
   "codemirror_mode": {
    "name": "ipython",
    "version": 3
   },
   "file_extension": ".py",
   "mimetype": "text/x-python",
   "name": "python",
   "nbconvert_exporter": "python",
   "pygments_lexer": "ipython3",
   "version": "3.6.1"
  }
 },
 "nbformat": 4,
 "nbformat_minor": 2
}
